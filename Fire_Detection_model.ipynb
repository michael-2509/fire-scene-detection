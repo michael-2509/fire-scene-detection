{
  "cells": [
    {
      "cell_type": "markdown",
      "metadata": {
        "id": "IuOdTZ4ZI2di"
      },
      "source": [
        "---\n",
        "**Fire Detection Model**\n",
        "---"
      ]
    },
    {
      "cell_type": "markdown",
      "metadata": {
        "id": "EGDpPzqAJvev"
      },
      "source": [
        "---\n",
        "**Data Preprocessing**\n",
        "---\n",
        "Link to first [dataset](https://www.kaggle.com/datasets/tharakan684/urecamain)\n",
        "\n",
        "Data Preprocessing performed starts by mounting google drive to load the dataset by setting the path to the root directory of the dataset.\n",
        "\n",
        "## All imports during preprocessing includes;\n",
        "\n",
        "**cv2**: This module is imported from the OpenCV library and is used for image loading, resizing, and various image processing tasks.\n",
        "\n",
        "**os**: This module is a part of the Python Standard Library and is used for interacting with the operating system, such as reading file paths, creating directories, or listing files in a directory.\n",
        "\n",
        "**numpy**: This library is widely used for numerical computations in Python. In this case, it is used to manipulate and process the image data as arrays.\n",
        "\n",
        "**ImageDataGenerator**: This class is imported from the tensorflow.keras.preprocessing.image module. It is used for data augmentation, generating augmented versions of the images with various transformations.\n",
        "\n",
        "**Train** subfolder was identified within the dataset, which is stored at /content/drive/MyDrive/fire_detection/Train. Class labels was defined, which are 'Fire' and 'Non-Fire'.\n",
        "\n",
        "**Image resizing**, target size was set to (128,128). After, looped through the class labels and the images within each class subfolder. For each image, loaded it using cv2.imread() and resized it using cv2.resize() to match the target size.\n",
        "\n",
        "**Image Normalization**: resized image was normalized by dividing it by 255.0 to bring the pixel values in the range of 0 to 1.\n",
        "\n",
        "**Image Augmentation**: ImageDataGenerator was used to perform data augmentation. The augmented images were generated using various transformations such as rotation, shifting, shearing, zooming, and flipping.\n",
        "\n",
        "**Data Storage**: The resized and augmented images in the **image_list** and their corresponding class labels in the **label_list** for further processing.\n",
        "\n",
        "**ImageDataset**: ImageDataset class was created by providing the **image_list** and **label_list** containing the actual image data and labels, respectively. The train_dataset variable is an instance of the ImageDataset class initialized with the provided image_list and label_list"
      ]
    },
    {
      "cell_type": "code",
      "execution_count": null,
      "metadata": {
        "colab": {
          "base_uri": "https://localhost:8080/"
        },
        "id": "xlvjhijUJqok",
        "outputId": "b2a168a0-3c4c-40a0-d572-66be512b6783"
      },
      "outputs": [
        {
          "output_type": "stream",
          "name": "stdout",
          "text": [
            "Mounted at /content/drive\n"
          ]
        }
      ],
      "source": [
        "# Mount Google drive to load the dataset\n",
        "from google.colab import drive\n",
        "drive.mount('/content/drive')\n"
      ]
    },
    {
      "cell_type": "code",
      "execution_count": null,
      "metadata": {
        "id": "ZngfGnngyJ0N"
      },
      "outputs": [],
      "source": [
        "import cv2\n",
        "import os\n",
        "import numpy as np\n",
        "from tensorflow.keras.preprocessing.image import ImageDataGenerator\n",
        "from torch.utils.data import Dataset\n",
        "\n",
        "# Set path to the dataset\n",
        "dataset_path = '/content/drive/MyDrive/fire_detection/'\n",
        "\n",
        "# Set path to the train subfolder\n",
        "train_folder = os.path.join(dataset_path, 'Train')\n",
        "\n",
        "# Define the class labels\n",
        "class_labels = ['Fire', 'Non-Fire']\n",
        "\n",
        "# Define the target size for resizing\n",
        "target_size = (128, 128)\n",
        "\n",
        "# Define the number of augmented images to generate per original image\n",
        "augmentation_factor = 5\n",
        "\n",
        "# Create an instance of the ImageDataGenerator for data augmentation\n",
        "data_generator = ImageDataGenerator(\n",
        "    rotation_range=20,\n",
        "    width_shift_range=0.2,\n",
        "    height_shift_range=0.2,\n",
        "    shear_range=0.2,\n",
        "    zoom_range=0.2,\n",
        "    horizontal_flip=True,\n",
        "    fill_mode='nearest'\n",
        ")\n",
        "\n",
        "# Create empty lists to store the images and labels\n",
        "image_list = []\n",
        "label_list = []\n",
        "\n",
        "# Iterate through the class labels\n",
        "for class_label in class_labels:\n",
        "    class_folder_path = os.path.join(train_folder, class_label)\n",
        "\n",
        "    # Iterate through images in each class subfolder\n",
        "    for image_filename in os.listdir(class_folder_path):\n",
        "        image_path = os.path.join(class_folder_path, image_filename)\n",
        "\n",
        "        # Read the image\n",
        "        image = cv2.imread(image_path)\n",
        "\n",
        "        # Resize the image\n",
        "        resized_image = cv2.resize(image, target_size)\n",
        "\n",
        "        # Normalize the image\n",
        "        normalized_image = resized_image / 255.0\n",
        "\n",
        "        # Convert the image to an array of shape (height, width, channels)\n",
        "        image_array = np.array(normalized_image)\n",
        "\n",
        "        # Expand the dimensions to (1, height, width, channels)\n",
        "        image_array = np.expand_dims(image_array, axis=0)\n",
        "\n",
        "        # Generate augmented images from the original image\n",
        "        augmented_images = data_generator.flow(image_array, batch_size=1)\n",
        "\n",
        "        # Iterate through the augmented images and add them to the lists\n",
        "        for _ in range(augmentation_factor):\n",
        "            augmented_image = augmented_images.next()[0]\n",
        "            image_list.append(augmented_image)\n",
        "            label_list.append(class_label)\n",
        "\n",
        "# Create a custom dataset class\n",
        "class ImageDataset(Dataset):\n",
        "    def __init__(self, image_list, label_list):\n",
        "        self.images = image_list\n",
        "        self.labels = label_list\n",
        "\n",
        "    def __len__(self):\n",
        "        return len(self.images)\n",
        "\n",
        "    def __getitem__(self, index):\n",
        "        image = self.images[index]\n",
        "        label = self.labels[index]\n",
        "        return image, label\n",
        "\n",
        "# Create an instance of the custom dataset class\n",
        "train_dataset = ImageDataset(image_list, label_list)"
      ]
    },
    {
      "cell_type": "markdown",
      "metadata": {
        "id": "TECzT8TIgICU"
      },
      "source": [
        "## **Validation Data Preprocess**"
      ]
    },
    {
      "cell_type": "code",
      "execution_count": null,
      "metadata": {
        "id": "RnR7eglKrHS-"
      },
      "outputs": [],
      "source": [
        "# Set path to the validation subfolder\n",
        "valid_folder = os.path.join(dataset_path, 'Valid')\n",
        "\n",
        "# Define the class labels\n",
        "class_labels = ['Fire', 'Non-Fire']\n",
        "\n",
        "# Define the target size for resizing\n",
        "target_size = (128, 128)\n",
        "\n",
        "# Create empty lists to store the images and labels\n",
        "valid_image_list = []\n",
        "valid_label_list = []\n",
        "\n",
        "# Iterate through the class labels\n",
        "for class_label in class_labels:\n",
        "    class_folder_path = os.path.join(valid_folder, class_label)\n",
        "\n",
        "    # Iterate through images in each class subfolder\n",
        "    for image_filename in os.listdir(class_folder_path):\n",
        "        image_path = os.path.join(class_folder_path, image_filename)\n",
        "\n",
        "        # Read the image\n",
        "        image = cv2.imread(image_path)\n",
        "\n",
        "        # Resize the image\n",
        "        resized_image = cv2.resize(image, target_size)\n",
        "\n",
        "        # Normalize the image\n",
        "        normalized_image = resized_image / 255.0\n",
        "\n",
        "        # Convert the image to an array of shape (height, width, channels)\n",
        "        image_array = np.array(normalized_image)\n",
        "\n",
        "        # Expand the dimensions to (1, height, width, channels)\n",
        "        image_array = np.expand_dims(image_array, axis=0)\n",
        "\n",
        "        valid_image_list.append(image_array)\n",
        "        valid_label_list.append(class_label)\n",
        "\n",
        "# Convert the valid lists to arrays\n",
        "valid_image_array = np.concatenate(valid_image_list, axis=0)\n",
        "valid_label_array = np.array(valid_label_list)\n",
        "\n",
        "# Create a custom dataset class\n",
        "class CustomValidationDataset(Dataset):\n",
        "    def __init__(self, valid_image_array, valid_label_array):\n",
        "        self.images = valid_image_array\n",
        "\n",
        "        self.labels = valid_label_array\n",
        "\n",
        "    def __len__(self):\n",
        "        return len(self.valid_image_array)\n",
        "\n",
        "    def __getitem__(self, index):\n",
        "        image = self.valid_image_array[index]\n",
        "        label = self.valid_label_array[index]\n",
        "        return image, label\n",
        "\n",
        "# Create an instance of the custom dataset class\n",
        "valid_dataset = CustomValidationDataset(valid_image_array, valid_label_array)\n"
      ]
    },
    {
      "cell_type": "markdown",
      "metadata": {
        "id": "e20oGva3qS31"
      },
      "source": [
        "# **Pretext Task**\n",
        "\n",
        "To implement the pretext task or a self supervised learning task that can effectively capture the visual features related to fire scenes by leveraging the preprocessed, unlabeled data to guide the learning process.\n",
        "\n",
        "First Pretext task;\n",
        "## **Image Inpainting**\n"
      ]
    },
    {
      "cell_type": "code",
      "execution_count": null,
      "metadata": {
        "colab": {
          "base_uri": "https://localhost:8080/",
          "height": 377
        },
        "id": "0Q3-SIEVvEMB",
        "outputId": "058ed0f6-a007-425a-83aa-93766f99146c"
      },
      "outputs": [
        {
          "output_type": "stream",
          "name": "stdout",
          "text": [
            "Downloading data from https://storage.googleapis.com/tensorflow/tf-keras-datasets/mnist.npz\n",
            "11490434/11490434 [==============================] - 1s 0us/step\n",
            "1875/1875 [==============================] - 391s 208ms/step - loss: 16.7753\n",
            "1/1 [==============================] - 0s 118ms/step\n"
          ]
        },
        {
          "output_type": "display_data",
          "data": {
            "text/plain": [
              "<Figure size 640x480 with 2 Axes>"
            ],
            "image/png": "[encoded data removed]"
          },
          "metadata": {}
        }
      ],
      "source": [
        "import tensorflow as tf\n",
        "from tensorflow import keras\n",
        "from tensorflow.keras.layers import Input, Conv2D, Flatten, Dense\n",
        "import matplotlib.pyplot as plt\n",
        "\n",
        "def context_encoder(input_shape):\n",
        "  \"\"\"Creates a context encoder model.\"\"\"\n",
        "  inputs = Input(input_shape)\n",
        "  x = Conv2D(32, (3, 3), padding='same')(inputs)\n",
        "  x = Conv2D(64, (3, 3), padding='same')(x)\n",
        "  x = Flatten()(x)\n",
        "  x = Dense(128)(x)\n",
        "  outputs = Dense(28*28)(x)  # Adjust the output shape to match the input shape\n",
        "  return keras.Model(inputs, outputs)\n",
        "\n",
        "\n",
        "def inpaint(image, model):\n",
        "  \"\"\"Inpaints a corrupted image using the context encoder model.\"\"\"\n",
        "  corrupted_image = image.reshape((1, 28, 28, 1))  # Reshape to match the input shape\n",
        "  inpainted_image = model.predict(corrupted_image)\n",
        "  inpainted_image = inpainted_image.reshape((28, 28))  # Reshape to match the output shape\n",
        "  return inpainted_image\n",
        "\n",
        "if __name__ == '__main__':\n",
        "  # Load the training dataset.\n",
        "  train_dataset = tf.keras.datasets.mnist\n",
        "  (x_train, y_train), (x_test, y_test) = train_dataset.load_data()\n",
        "\n",
        "  # Create the context encoder model.\n",
        "  model = context_encoder((28, 28, 1))\n",
        "\n",
        " # Train the context encoder model.\n",
        "model.compile(optimizer='adam', loss='mean_absolute_error')\n",
        "model.fit(x_train, x_train.reshape(-1, 784), epochs=1)\n",
        "\n",
        "# Inpaint a corrupted image.\n",
        "image = x_test[0]\n",
        "corrupted_image = image.reshape((1, 28, 28, 1))\n",
        "inpainted_image = inpaint(corrupted_image, model)\n",
        "\n",
        "# Display the original and inpainted images.\n",
        "plt.subplot(121)\n",
        "plt.imshow(image, cmap='gray')\n",
        "plt.title('Original image')\n",
        "plt.subplot(122)\n",
        "plt.imshow(inpainted_image, cmap='gray')\n",
        "plt.title('Inpainted image')\n",
        "plt.show()"
      ]
    },
    {
      "cell_type": "code",
      "execution_count": null,
      "metadata": {
        "id": "0w1NUZWjb9Fg",
        "colab": {
          "base_uri": "https://localhost:8080/",
          "height": 377
        },
        "outputId": "2957c75a-1fde-487c-e4d7-08218a201c5f"
      },
      "outputs": [
        {
          "output_type": "stream",
          "name": "stdout",
          "text": [
            "1875/1875 [==============================] - 411s 219ms/step - loss: 17.6792\n",
            "313/313 [==============================] - 12s 38ms/step - loss: 11.6093\n",
            "Evaluation Loss: 11.609295845031738\n",
            "1/1 [==============================] - 0s 76ms/step\n"
          ]
        },
        {
          "output_type": "display_data",
          "data": {
            "text/plain": [
              "<Figure size 640x480 with 2 Axes>"
            ],
            "image/png": "[encoded data removed]"
          },
          "metadata": {}
        }
      ],
      "source": [
        "import numpy as np\n",
        "import tensorflow as tf\n",
        "from tensorflow import keras\n",
        "from tensorflow.keras.layers import Input, Conv2D, Flatten, Dense\n",
        "import matplotlib.pyplot as plt\n",
        "\n",
        "def context_encoder(input_shape):\n",
        "    \"\"\"Creates a context encoder model.\"\"\"\n",
        "    inputs = Input(input_shape)\n",
        "    x = Conv2D(32, (3, 3), padding='same')(inputs)\n",
        "    x = Conv2D(64, (3, 3), padding='same')(x)\n",
        "    x = Flatten()(x)\n",
        "    x = Dense(128)(x)\n",
        "    outputs = Dense(28*28)(x)  # Adjust the output shape to match the input shape\n",
        "    return keras.Model(inputs, outputs)\n",
        "\n",
        "\n",
        "def inpaint(image, model):\n",
        "    \"\"\"Inpaints a corrupted image using the context encoder model.\"\"\"\n",
        "    corrupted_image = image.reshape((1, 28, 28, 1))  # Reshape to match the input shape\n",
        "    inpainted_image = model.predict(corrupted_image)\n",
        "    inpainted_image = inpainted_image.reshape((28, 28))  # Reshape to match the output shape\n",
        "    return inpainted_image\n",
        "\n",
        "if __name__ == '__main__':\n",
        "    # Load the training and validation datasets.\n",
        "    (x_train, _), (x_valid, _) = tf.keras.datasets.mnist.load_data()\n",
        "\n",
        "    # Create the context encoder model.\n",
        "    model = context_encoder((28, 28, 1))\n",
        "\n",
        "    # Train the context encoder model.\n",
        "    model.compile(optimizer='adam', loss='mean_absolute_error')\n",
        "    model.fit(x_train, x_train.reshape(-1, 784), epochs=1)\n",
        "\n",
        "    # Evaluate the trained model on the validation dataset\n",
        "    evaluation = model.evaluate(x_valid, x_valid.reshape(-1, 784))\n",
        "    print('Evaluation Loss:', evaluation)\n",
        "\n",
        "    # Select a random sample from the validation dataset for visualization\n",
        "    sample_index = np.random.randint(0, len(x_valid))\n",
        "    sample_image = x_valid[sample_index]\n",
        "\n",
        "    # Reshape the sample image to match the input shape of the model\n",
        "    sample_image_reshaped = sample_image.reshape((1, 28, 28, 1))\n",
        "\n",
        "    # Inpaint the sample image\n",
        "    inpainted_sample = inpaint(sample_image_reshaped, model)\n",
        "\n",
        "    # Display the original and inpainted images\n",
        "    plt.subplot(121)\n",
        "    plt.imshow(sample_image, cmap='gray')\n",
        "    plt.title('Original Image')\n",
        "\n",
        "    plt.subplot(122)\n",
        "    plt.imshow(inpainted_sample, cmap='gray')\n",
        "    plt.title('Inpainted Image')\n",
        "\n",
        "    plt.show()\n"
      ]
    },
    {
      "cell_type": "markdown",
      "metadata": {
        "id": "USRsWmtg0H20"
      },
      "source": [
        "## **Pretext Task**\n",
        "\n",
        "**Colorization**"
      ]
    }
  ],
  "metadata": {
    "colab": {
      "provenance": [],
      "include_colab_link": true
    },
    "kernelspec": {
      "display_name": "Python 3",
      "name": "python3"
    },
    "language_info": {
      "name": "python"
    }
  },
  "nbformat": 4,
  "nbformat_minor": 0
}
